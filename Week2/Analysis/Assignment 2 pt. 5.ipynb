{
 "cells": [
  {
   "cell_type": "code",
   "execution_count": 7,
   "metadata": {},
   "outputs": [
    {
     "name": "stdout",
     "output_type": "stream",
     "text": [
      "Number of Hydrogen Bonds: 76\n",
      "Number of helical amino acids: 18\n"
     ]
    }
   ],
   "source": [
    "import mdtraj as md\n",
    "\n",
    "# Load the PDB file with the correct file path\n",
    "pdb_file_path = '/scratch/work/courses/CHEM-GA-2671-2023fa/students/sw4384/comp-lab-class-2023/Week2/Data/1UBQ_processed.pdb'\n",
    "traj = md.load(pdb_file_path)\n",
    "import mdtraj as md\n",
    "import numpy as np\n",
    "\n",
    "# Define donor and acceptor atom selections\n",
    "donor_selection = 'protein and name N'  # Modify as needed\n",
    "acceptor_selection = 'protein and name O'  # Modify as needed\n",
    "\n",
    "# Get indices of donor and acceptor atoms\n",
    "donor_indices = traj.topology.select(donor_selection)\n",
    "acceptor_indices = traj.topology.select(acceptor_selection)\n",
    "\n",
    "# Create atom_pairs array with shape (n_pairs, 2)\n",
    "atom_pairs = np.column_stack((donor_indices, acceptor_indices))\n",
    "\n",
    "# Calculate distances between donor and acceptor atoms\n",
    "distances = md.compute_distances(traj, atom_pairs)\n",
    "\n",
    "# Set a hydrogen bond distance threshold\n",
    "hydrogen_bond_distance = 3.0  # You can adjust this distance threshold\n",
    "\n",
    "# Find hydrogen bonds based on the distance threshold\n",
    "hbonds = []\n",
    "for frame_distances in distances:\n",
    "    frame_hbonds = []\n",
    "    for i, distance in enumerate(frame_distances):\n",
    "        if distance < hydrogen_bond_distance:\n",
    "            donor_atom = traj.topology.atom(atom_pairs[i, 0])\n",
    "            acceptor_atom = traj.topology.atom(atom_pairs[i, 1])\n",
    "            frame_hbonds.append((donor_atom, acceptor_atom))\n",
    "    hbonds.append(frame_hbonds)\n",
    "\n",
    "num_hbonds = 0    \n",
    "    \n",
    "# Print hydrogen bond information\n",
    "for frame, hbond_frame in enumerate(hbonds):\n",
    "    for donor_atom, acceptor_atom in hbond_frame:\n",
    "        #print(f\"Frame {frame}: Hydrogen bond between {donor_atom} and {acceptor_atom}\")\n",
    "        num_hbonds+=1\n",
    "\n",
    "print('Number of Hydrogen Bonds:', num_hbonds)\n",
    "\n",
    "# Calculate DSSP assignments\n",
    "dssp = md.compute_dssp(traj)\n",
    "\n",
    "# Define a counter for alpha helix residues\n",
    "alpha_helix_count = 0\n",
    "\n",
    "# Loop through frames and DSSP assignments\n",
    "for frame, dssp_frame in enumerate(dssp):\n",
    "    for residue, dssp_code in enumerate(dssp_frame):\n",
    "        # Check if the DSSP code indicates an alpha helix ('H') conformation\n",
    "        if dssp_code == 'H':\n",
    "            alpha_helix_count += 1\n",
    "\n",
    "print(f\"Number of helical amino acids: {alpha_helix_count}\")\n",
    "\n"
   ]
  },
  {
   "cell_type": "code",
   "execution_count": null,
   "metadata": {},
   "outputs": [],
   "source": []
  },
  {
   "cell_type": "code",
   "execution_count": null,
   "metadata": {},
   "outputs": [],
   "source": []
  },
  {
   "cell_type": "code",
   "execution_count": null,
   "metadata": {},
   "outputs": [],
   "source": []
  }
 ],
 "metadata": {
  "kernelspec": {
   "display_name": "lab_env_2023",
   "language": "python",
   "name": "lab_env_2023"
  },
  "language_info": {
   "codemirror_mode": {
    "name": "ipython",
    "version": 3
   },
   "file_extension": ".py",
   "mimetype": "text/x-python",
   "name": "python",
   "nbconvert_exporter": "python",
   "pygments_lexer": "ipython3",
   "version": "3.9.12"
  }
 },
 "nbformat": 4,
 "nbformat_minor": 4
}
