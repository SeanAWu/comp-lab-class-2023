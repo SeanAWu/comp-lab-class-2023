{
 "cells": [
  {
   "cell_type": "code",
   "execution_count": 17,
   "metadata": {},
   "outputs": [
    {
     "ename": "SyntaxError",
     "evalue": "invalid syntax (30841703.py, line 18)",
     "output_type": "error",
     "traceback": [
      "\u001b[0;36m  Cell \u001b[0;32mIn [17], line 18\u001b[0;36m\u001b[0m\n\u001b[0;31m    {i}MSD = msd.EinsteinMSD(selection_type_1, delta=1, start=0, stop=None)\u001b[0m\n\u001b[0m       ^\u001b[0m\n\u001b[0;31mSyntaxError\u001b[0m\u001b[0;31m:\u001b[0m invalid syntax\n"
     ]
    }
   ],
   "source": [
    "import MDAnalysis as mda\n",
    "import MDAnalysis.analysis.msd as msd\n",
    "import matplotlib.pyplot as plt\n",
    "import numpy as np\n",
    "\n",
    "trajectory_names = ['kalj_T0.475_n360_v300_30000000_1.lammpstrj', 'kalj_T0.5_n360_v300_10000000_1.lammpstrj', 'kalj_T0.55_n360_v300_3000000_1.lammpstrj', 'kalj_T0.6_n360_v300_1000000_1.lammpstrj', 'kalj_T0.65_n360_v300_350000_1.lammpstrj', 'kalj_T0.7_n360_v300_180000_1.lammpstrj', 'kalj_T0.8_n360_v300_150000_1.lammpstrj', 'kalj_T0.9_n360_v300_150000_1.lammpstrj', 'kalj_T1_n360_v300_50000_1.lammpstrj', 'kalj_T1.5_n360_v300_10000_1.lammpstrj']\n",
    "topology_names = ['kalj_T0.475_n360_v300_prod_30000000_1.unwrap.dcd', 'kalj_T0.5_n360_v300_prod_10000000_1.unwrap.dcd', 'kalj_T0.55_n360_v300_prod_3000000_1.unwrap.dcd', 'kalj_T0.6_n360_v300_prod_1000000_1.unwrap.dcd', 'kalj_T0.65_n360_v300_prod_350000_1.unwrap.dcd', 'kalj_T0.7_n360_v300_prod_180000_1.unwrap.dcd', 'kalj_T0.8_n360_v300_prod_150000_1.unwrap.dcd', 'kalj_T0.9_n360_v300_prod_150000_1.unwrap.dcd', 'kalj_T1_n360_v300_prod_50000_1.unwrap.dcd', 'kalj_T1.5_n360_v300_prod_10000_1.unwrap.dcd']\n",
    "\n",
    "for i in range(10):\n",
    "    # Construct file paths using the current value of i\n",
    "    \n",
    "    trajectory_path = f'../Data/equil/{trajectory_names[i]}'\n",
    "    topology_path = f'../Data/prod/{topology_names[i]}'\n",
    "\n",
    "    universe = mda.Universe(trajectory_path, topology_path, topology_format=\"LAMMPSDUMP\")\n",
    "    selection_type_1 = universe.select_atoms('type 1')\n",
    "    \n",
    "    MSD = msd.EinsteinMSD(selection_type_1, delta=1, start=0, stop=None)\n",
    "    MSD.run()\n",
    "    msd =  MSD.results.timeseries\n",
    "    \n",
    "    nframes = MSD.n_frames\n",
    "    timestep = 1 # this needs to be the actual time between frames\n",
    "    lagtimes = np.arange(nframes)*timestep # make the lag-time axis\n",
    "    fig = plt.figure()\n",
    "    ax = plt.axes()\n",
    "    exact = lagtimes*6\n",
    "    # plot the exact result\n",
    "    ax.plot(lagtimes, exact, ls=\"--\", label=r'$y=2 D\\tau$')\n",
    "    \n",
    "    plt.legend()\n",
    "    plt.show()\n",
    "\n",
    "\n"
   ]
  },
  {
   "cell_type": "code",
   "execution_count": null,
   "metadata": {},
   "outputs": [],
   "source": []
  },
  {
   "cell_type": "code",
   "execution_count": null,
   "metadata": {},
   "outputs": [],
   "source": []
  }
 ],
 "metadata": {
  "kernelspec": {
   "display_name": "lab_env_2023",
   "language": "python",
   "name": "lab_env_2023"
  },
  "language_info": {
   "codemirror_mode": {
    "name": "ipython",
    "version": 3
   },
   "file_extension": ".py",
   "mimetype": "text/x-python",
   "name": "python",
   "nbconvert_exporter": "python",
   "pygments_lexer": "ipython3",
   "version": "3.9.12"
  }
 },
 "nbformat": 4,
 "nbformat_minor": 4
}
